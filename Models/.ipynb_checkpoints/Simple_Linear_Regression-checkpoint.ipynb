{
 "cells": [
  {
   "cell_type": "markdown",
   "id": "5c491760",
   "metadata": {},
   "source": [
    "# Zindi's Tanzania Tourism Prediction"
   ]
  },
  {
   "cell_type": "markdown",
   "id": "999f138f",
   "metadata": {},
   "source": [
    "The question is: Can you use tourism survey data and ML to predict how much money a tourist will spend when visiting Tanzania?"
   ]
  },
  {
   "cell_type": "markdown",
   "id": "e92d22d7",
   "metadata": {},
   "source": [
    "I will use regression to answer this question"
   ]
  },
  {
   "cell_type": "code",
   "execution_count": 1,
   "id": "446b352c",
   "metadata": {},
   "outputs": [],
   "source": [
    "# import libraries\n",
    "import pandas as pd\n",
    "import numpy as np\n",
    "from sklearn.linear_model import LinearRegression\n",
    "from sklearn.preprocessing import OneHotEncoder"
   ]
  },
  {
   "cell_type": "markdown",
   "id": "70de7f44",
   "metadata": {},
   "source": [
    "This notebook will be divided into the following sections:\n",
    "1. Loading and cleaning the data\n",
    "2. EDA\n",
    "3. Feature Engineering\n",
    "4. Model Building\n",
    "5. Model Evaluation and Visualization"
   ]
  },
  {
   "cell_type": "markdown",
   "id": "f63c59de",
   "metadata": {},
   "source": [
    "## 1. Load and Clean the Data"
   ]
  },
  {
   "cell_type": "markdown",
   "id": "c4d43424",
   "metadata": {},
   "source": [
    "We have both the train and test datasets and so we load them both"
   ]
  },
  {
   "cell_type": "code",
   "execution_count": 2,
   "id": "bf31e7d3",
   "metadata": {},
   "outputs": [],
   "source": [
    "train = pd.read_csv('../Data/Tz-Tourist-Prediction/Train.csv')\n",
    "test = pd.read_csv('../Data/Tz-Tourist-Prediction/Test.csv')\n",
    "VariableDefinitions = pd.read_csv('../Data/Tz-Tourist-Prediction/VariableDefinitions.csv')\n",
    "SampleSubmission = pd.read_csv('../Data/Tz-Tourist-Prediction/SampleSubmission.csv')"
   ]
  },
  {
   "cell_type": "markdown",
   "id": "2a71c5a9",
   "metadata": {},
   "source": [
    "Now that we have loaded the data frames, I will see what lies in each of them"
   ]
  },
  {
   "cell_type": "code",
   "execution_count": 3,
   "id": "89b99b49",
   "metadata": {
    "scrolled": true
   },
   "outputs": [
    {
     "data": {
      "text/plain": [
       "ID                        object\n",
       "country                   object\n",
       "age_group                 object\n",
       "travel_with               object\n",
       "total_female             float64\n",
       "total_male               float64\n",
       "purpose                   object\n",
       "main_activity             object\n",
       "info_source               object\n",
       "tour_arrangement          object\n",
       "package_transport_int     object\n",
       "package_accomodation      object\n",
       "package_food              object\n",
       "package_transport_tz      object\n",
       "package_sightseeing       object\n",
       "package_guided_tour       object\n",
       "package_insurance         object\n",
       "night_mainland           float64\n",
       "night_zanzibar           float64\n",
       "payment_mode              object\n",
       "first_trip_tz             object\n",
       "most_impressing           object\n",
       "total_cost               float64\n",
       "dtype: object"
      ]
     },
     "execution_count": 3,
     "metadata": {},
     "output_type": "execute_result"
    }
   ],
   "source": [
    "train.dtypes"
   ]
  },
  {
   "cell_type": "code",
   "execution_count": 4,
   "id": "5c121654",
   "metadata": {},
   "outputs": [
    {
     "data": {
      "text/plain": [
       "(4809, 23)"
      ]
     },
     "execution_count": 4,
     "metadata": {},
     "output_type": "execute_result"
    }
   ],
   "source": [
    "train.shape"
   ]
  },
  {
   "cell_type": "code",
   "execution_count": 5,
   "id": "4abaa005",
   "metadata": {},
   "outputs": [
    {
     "data": {
      "text/html": [
       "<div>\n",
       "<style scoped>\n",
       "    .dataframe tbody tr th:only-of-type {\n",
       "        vertical-align: middle;\n",
       "    }\n",
       "\n",
       "    .dataframe tbody tr th {\n",
       "        vertical-align: top;\n",
       "    }\n",
       "\n",
       "    .dataframe thead th {\n",
       "        text-align: right;\n",
       "    }\n",
       "</style>\n",
       "<table border=\"1\" class=\"dataframe\">\n",
       "  <thead>\n",
       "    <tr style=\"text-align: right;\">\n",
       "      <th></th>\n",
       "      <th>ID</th>\n",
       "      <th>total_cost</th>\n",
       "    </tr>\n",
       "  </thead>\n",
       "  <tbody>\n",
       "    <tr>\n",
       "      <th>0</th>\n",
       "      <td>tour_1</td>\n",
       "      <td>0</td>\n",
       "    </tr>\n",
       "    <tr>\n",
       "      <th>1</th>\n",
       "      <td>tour_100</td>\n",
       "      <td>0</td>\n",
       "    </tr>\n",
       "    <tr>\n",
       "      <th>2</th>\n",
       "      <td>tour_1001</td>\n",
       "      <td>0</td>\n",
       "    </tr>\n",
       "    <tr>\n",
       "      <th>3</th>\n",
       "      <td>tour_1006</td>\n",
       "      <td>0</td>\n",
       "    </tr>\n",
       "    <tr>\n",
       "      <th>4</th>\n",
       "      <td>tour_1009</td>\n",
       "      <td>0</td>\n",
       "    </tr>\n",
       "  </tbody>\n",
       "</table>\n",
       "</div>"
      ],
      "text/plain": [
       "          ID  total_cost\n",
       "0     tour_1           0\n",
       "1   tour_100           0\n",
       "2  tour_1001           0\n",
       "3  tour_1006           0\n",
       "4  tour_1009           0"
      ]
     },
     "execution_count": 5,
     "metadata": {},
     "output_type": "execute_result"
    }
   ],
   "source": [
    "SampleSubmission.head()"
   ]
  },
  {
   "cell_type": "markdown",
   "id": "64e4fd84",
   "metadata": {},
   "source": [
    "What we are tring to predict is the total_cost column. It is our y (target). Now we must check each of the features in the train df to determine which ones are relevant in making the prediction.\n",
    "Among the columns in train, we only return the ID and the total_cost. "
   ]
  },
  {
   "cell_type": "code",
   "execution_count": 6,
   "id": "fd836b88",
   "metadata": {},
   "outputs": [
    {
     "data": {
      "text/html": [
       "<div>\n",
       "<style scoped>\n",
       "    .dataframe tbody tr th:only-of-type {\n",
       "        vertical-align: middle;\n",
       "    }\n",
       "\n",
       "    .dataframe tbody tr th {\n",
       "        vertical-align: top;\n",
       "    }\n",
       "\n",
       "    .dataframe thead th {\n",
       "        text-align: right;\n",
       "    }\n",
       "</style>\n",
       "<table border=\"1\" class=\"dataframe\">\n",
       "  <thead>\n",
       "    <tr style=\"text-align: right;\">\n",
       "      <th></th>\n",
       "      <th>ID</th>\n",
       "      <th>country</th>\n",
       "      <th>age_group</th>\n",
       "      <th>travel_with</th>\n",
       "      <th>total_female</th>\n",
       "      <th>total_male</th>\n",
       "      <th>purpose</th>\n",
       "      <th>main_activity</th>\n",
       "      <th>info_source</th>\n",
       "      <th>tour_arrangement</th>\n",
       "      <th>...</th>\n",
       "      <th>package_transport_tz</th>\n",
       "      <th>package_sightseeing</th>\n",
       "      <th>package_guided_tour</th>\n",
       "      <th>package_insurance</th>\n",
       "      <th>night_mainland</th>\n",
       "      <th>night_zanzibar</th>\n",
       "      <th>payment_mode</th>\n",
       "      <th>first_trip_tz</th>\n",
       "      <th>most_impressing</th>\n",
       "      <th>total_cost</th>\n",
       "    </tr>\n",
       "  </thead>\n",
       "  <tbody>\n",
       "    <tr>\n",
       "      <th>0</th>\n",
       "      <td>tour_0</td>\n",
       "      <td>SWIZERLAND</td>\n",
       "      <td>45-64</td>\n",
       "      <td>Friends/Relatives</td>\n",
       "      <td>1.0</td>\n",
       "      <td>1.0</td>\n",
       "      <td>Leisure and Holidays</td>\n",
       "      <td>Wildlife tourism</td>\n",
       "      <td>Friends, relatives</td>\n",
       "      <td>Independent</td>\n",
       "      <td>...</td>\n",
       "      <td>No</td>\n",
       "      <td>No</td>\n",
       "      <td>No</td>\n",
       "      <td>No</td>\n",
       "      <td>13.0</td>\n",
       "      <td>0.0</td>\n",
       "      <td>Cash</td>\n",
       "      <td>No</td>\n",
       "      <td>Friendly People</td>\n",
       "      <td>674602.5</td>\n",
       "    </tr>\n",
       "    <tr>\n",
       "      <th>1</th>\n",
       "      <td>tour_10</td>\n",
       "      <td>UNITED KINGDOM</td>\n",
       "      <td>25-44</td>\n",
       "      <td>NaN</td>\n",
       "      <td>1.0</td>\n",
       "      <td>0.0</td>\n",
       "      <td>Leisure and Holidays</td>\n",
       "      <td>Cultural tourism</td>\n",
       "      <td>others</td>\n",
       "      <td>Independent</td>\n",
       "      <td>...</td>\n",
       "      <td>No</td>\n",
       "      <td>No</td>\n",
       "      <td>No</td>\n",
       "      <td>No</td>\n",
       "      <td>14.0</td>\n",
       "      <td>7.0</td>\n",
       "      <td>Cash</td>\n",
       "      <td>Yes</td>\n",
       "      <td>Wonderful Country, Landscape, Nature</td>\n",
       "      <td>3214906.5</td>\n",
       "    </tr>\n",
       "    <tr>\n",
       "      <th>2</th>\n",
       "      <td>tour_1000</td>\n",
       "      <td>UNITED KINGDOM</td>\n",
       "      <td>25-44</td>\n",
       "      <td>Alone</td>\n",
       "      <td>0.0</td>\n",
       "      <td>1.0</td>\n",
       "      <td>Visiting Friends and Relatives</td>\n",
       "      <td>Cultural tourism</td>\n",
       "      <td>Friends, relatives</td>\n",
       "      <td>Independent</td>\n",
       "      <td>...</td>\n",
       "      <td>No</td>\n",
       "      <td>No</td>\n",
       "      <td>No</td>\n",
       "      <td>No</td>\n",
       "      <td>1.0</td>\n",
       "      <td>31.0</td>\n",
       "      <td>Cash</td>\n",
       "      <td>No</td>\n",
       "      <td>Excellent Experience</td>\n",
       "      <td>3315000.0</td>\n",
       "    </tr>\n",
       "    <tr>\n",
       "      <th>3</th>\n",
       "      <td>tour_1002</td>\n",
       "      <td>UNITED KINGDOM</td>\n",
       "      <td>25-44</td>\n",
       "      <td>Spouse</td>\n",
       "      <td>1.0</td>\n",
       "      <td>1.0</td>\n",
       "      <td>Leisure and Holidays</td>\n",
       "      <td>Wildlife tourism</td>\n",
       "      <td>Travel, agent, tour operator</td>\n",
       "      <td>Package Tour</td>\n",
       "      <td>...</td>\n",
       "      <td>Yes</td>\n",
       "      <td>Yes</td>\n",
       "      <td>Yes</td>\n",
       "      <td>No</td>\n",
       "      <td>11.0</td>\n",
       "      <td>0.0</td>\n",
       "      <td>Cash</td>\n",
       "      <td>Yes</td>\n",
       "      <td>Friendly People</td>\n",
       "      <td>7790250.0</td>\n",
       "    </tr>\n",
       "    <tr>\n",
       "      <th>4</th>\n",
       "      <td>tour_1004</td>\n",
       "      <td>CHINA</td>\n",
       "      <td>1-24</td>\n",
       "      <td>NaN</td>\n",
       "      <td>1.0</td>\n",
       "      <td>0.0</td>\n",
       "      <td>Leisure and Holidays</td>\n",
       "      <td>Wildlife tourism</td>\n",
       "      <td>Travel, agent, tour operator</td>\n",
       "      <td>Independent</td>\n",
       "      <td>...</td>\n",
       "      <td>No</td>\n",
       "      <td>No</td>\n",
       "      <td>No</td>\n",
       "      <td>No</td>\n",
       "      <td>7.0</td>\n",
       "      <td>4.0</td>\n",
       "      <td>Cash</td>\n",
       "      <td>Yes</td>\n",
       "      <td>No comments</td>\n",
       "      <td>1657500.0</td>\n",
       "    </tr>\n",
       "  </tbody>\n",
       "</table>\n",
       "<p>5 rows × 23 columns</p>\n",
       "</div>"
      ],
      "text/plain": [
       "          ID         country age_group        travel_with  total_female  \\\n",
       "0     tour_0      SWIZERLAND     45-64  Friends/Relatives           1.0   \n",
       "1    tour_10  UNITED KINGDOM     25-44                NaN           1.0   \n",
       "2  tour_1000  UNITED KINGDOM     25-44              Alone           0.0   \n",
       "3  tour_1002  UNITED KINGDOM     25-44             Spouse           1.0   \n",
       "4  tour_1004           CHINA      1-24                NaN           1.0   \n",
       "\n",
       "   total_male                         purpose     main_activity  \\\n",
       "0         1.0            Leisure and Holidays  Wildlife tourism   \n",
       "1         0.0            Leisure and Holidays  Cultural tourism   \n",
       "2         1.0  Visiting Friends and Relatives  Cultural tourism   \n",
       "3         1.0            Leisure and Holidays  Wildlife tourism   \n",
       "4         0.0            Leisure and Holidays  Wildlife tourism   \n",
       "\n",
       "                    info_source tour_arrangement  ... package_transport_tz  \\\n",
       "0            Friends, relatives      Independent  ...                   No   \n",
       "1                        others      Independent  ...                   No   \n",
       "2            Friends, relatives      Independent  ...                   No   \n",
       "3  Travel, agent, tour operator     Package Tour  ...                  Yes   \n",
       "4  Travel, agent, tour operator      Independent  ...                   No   \n",
       "\n",
       "  package_sightseeing package_guided_tour package_insurance night_mainland  \\\n",
       "0                  No                  No                No           13.0   \n",
       "1                  No                  No                No           14.0   \n",
       "2                  No                  No                No            1.0   \n",
       "3                 Yes                 Yes                No           11.0   \n",
       "4                  No                  No                No            7.0   \n",
       "\n",
       "  night_zanzibar payment_mode  first_trip_tz  \\\n",
       "0            0.0         Cash             No   \n",
       "1            7.0         Cash            Yes   \n",
       "2           31.0         Cash             No   \n",
       "3            0.0         Cash            Yes   \n",
       "4            4.0         Cash            Yes   \n",
       "\n",
       "                        most_impressing total_cost  \n",
       "0                       Friendly People   674602.5  \n",
       "1  Wonderful Country, Landscape, Nature  3214906.5  \n",
       "2                  Excellent Experience  3315000.0  \n",
       "3                       Friendly People  7790250.0  \n",
       "4                           No comments  1657500.0  \n",
       "\n",
       "[5 rows x 23 columns]"
      ]
     },
     "execution_count": 6,
     "metadata": {},
     "output_type": "execute_result"
    }
   ],
   "source": [
    "# check what is in the train dataframe\n",
    "train.head()"
   ]
  },
  {
   "cell_type": "code",
   "execution_count": 7,
   "id": "7a638f2c",
   "metadata": {},
   "outputs": [
    {
     "data": {
      "text/plain": [
       "ID                       4809\n",
       "country                   105\n",
       "age_group                   4\n",
       "travel_with                 5\n",
       "total_female               14\n",
       "total_male                 14\n",
       "purpose                     7\n",
       "main_activity               9\n",
       "info_source                 8\n",
       "tour_arrangement            2\n",
       "package_transport_int       2\n",
       "package_accomodation        2\n",
       "package_food                2\n",
       "package_transport_tz        2\n",
       "package_sightseeing         2\n",
       "package_guided_tour         2\n",
       "package_insurance           2\n",
       "night_mainland             64\n",
       "night_zanzibar             34\n",
       "payment_mode                4\n",
       "first_trip_tz               2\n",
       "most_impressing             7\n",
       "total_cost               1637\n",
       "dtype: int64"
      ]
     },
     "execution_count": 7,
     "metadata": {},
     "output_type": "execute_result"
    }
   ],
   "source": [
    "train.nunique()"
   ]
  },
  {
   "cell_type": "code",
   "execution_count": 8,
   "id": "8750593b",
   "metadata": {},
   "outputs": [
    {
     "data": {
      "text/plain": [
       "ID                       0\n",
       "country                  0\n",
       "age_group                0\n",
       "travel_with              0\n",
       "total_female             0\n",
       "total_male               0\n",
       "purpose                  0\n",
       "main_activity            0\n",
       "info_source              0\n",
       "tour_arrangement         0\n",
       "package_transport_int    0\n",
       "package_accomodation     0\n",
       "package_food             0\n",
       "package_transport_tz     0\n",
       "package_sightseeing      0\n",
       "package_guided_tour      0\n",
       "package_insurance        0\n",
       "night_mainland           0\n",
       "night_zanzibar           0\n",
       "payment_mode             0\n",
       "first_trip_tz            0\n",
       "most_impressing          0\n",
       "total_cost               0\n",
       "dtype: int64"
      ]
     },
     "execution_count": 8,
     "metadata": {},
     "output_type": "execute_result"
    }
   ],
   "source": [
    "# Check for empty values\n",
    "train.isnull().isnull().sum()"
   ]
  },
  {
   "cell_type": "markdown",
   "id": "0438f65a",
   "metadata": {},
   "source": [
    "We cannot proceed with values that are empty i.e., travel_with, total males and females and most impressing. I'll have different strategies for them"
   ]
  },
  {
   "cell_type": "code",
   "execution_count": 9,
   "id": "f8a4b0fc",
   "metadata": {},
   "outputs": [],
   "source": [
    "# forward fill\n",
    "# train = train.fillna(method='ffill', axis=0)"
   ]
  },
  {
   "cell_type": "code",
   "execution_count": 10,
   "id": "d0c9f8d7",
   "metadata": {},
   "outputs": [],
   "source": [
    "# train.isnull().sum()"
   ]
  },
  {
   "cell_type": "code",
   "execution_count": 11,
   "id": "bba8b433",
   "metadata": {},
   "outputs": [
    {
     "data": {
      "text/html": [
       "<div>\n",
       "<style scoped>\n",
       "    .dataframe tbody tr th:only-of-type {\n",
       "        vertical-align: middle;\n",
       "    }\n",
       "\n",
       "    .dataframe tbody tr th {\n",
       "        vertical-align: top;\n",
       "    }\n",
       "\n",
       "    .dataframe thead th {\n",
       "        text-align: right;\n",
       "    }\n",
       "</style>\n",
       "<table border=\"1\" class=\"dataframe\">\n",
       "  <thead>\n",
       "    <tr style=\"text-align: right;\">\n",
       "      <th></th>\n",
       "      <th>Column Name</th>\n",
       "      <th>Definition</th>\n",
       "    </tr>\n",
       "  </thead>\n",
       "  <tbody>\n",
       "    <tr>\n",
       "      <th>0</th>\n",
       "      <td>id</td>\n",
       "      <td>Unique identifier for each tourist</td>\n",
       "    </tr>\n",
       "    <tr>\n",
       "      <th>1</th>\n",
       "      <td>country</td>\n",
       "      <td>The country a tourist coming  from.</td>\n",
       "    </tr>\n",
       "    <tr>\n",
       "      <th>2</th>\n",
       "      <td>age_group</td>\n",
       "      <td>The age group of a tourist.</td>\n",
       "    </tr>\n",
       "    <tr>\n",
       "      <th>3</th>\n",
       "      <td>travel_with</td>\n",
       "      <td>The relation of people a tourist travel with t...</td>\n",
       "    </tr>\n",
       "    <tr>\n",
       "      <th>4</th>\n",
       "      <td>total_female</td>\n",
       "      <td>Total number of females</td>\n",
       "    </tr>\n",
       "    <tr>\n",
       "      <th>5</th>\n",
       "      <td>total_male</td>\n",
       "      <td>Total number of males</td>\n",
       "    </tr>\n",
       "    <tr>\n",
       "      <th>6</th>\n",
       "      <td>purpose</td>\n",
       "      <td>The purpose of visiting  Tanzania</td>\n",
       "    </tr>\n",
       "    <tr>\n",
       "      <th>7</th>\n",
       "      <td>main_activity</td>\n",
       "      <td>The main activity of tourism in Tanzania</td>\n",
       "    </tr>\n",
       "    <tr>\n",
       "      <th>8</th>\n",
       "      <td>infor_source</td>\n",
       "      <td>The source of information about tourism in Tan...</td>\n",
       "    </tr>\n",
       "    <tr>\n",
       "      <th>9</th>\n",
       "      <td>tour_arrangment</td>\n",
       "      <td>The arrangment of visiting Tanzania</td>\n",
       "    </tr>\n",
       "    <tr>\n",
       "      <th>10</th>\n",
       "      <td>package_transport_int</td>\n",
       "      <td>If the tour package include international tran...</td>\n",
       "    </tr>\n",
       "    <tr>\n",
       "      <th>11</th>\n",
       "      <td>package_accomodation</td>\n",
       "      <td>If the tour package include accommodation service</td>\n",
       "    </tr>\n",
       "    <tr>\n",
       "      <th>12</th>\n",
       "      <td>package_food</td>\n",
       "      <td>If the tour package include food service</td>\n",
       "    </tr>\n",
       "    <tr>\n",
       "      <th>13</th>\n",
       "      <td>package_transport_tz</td>\n",
       "      <td>If the tour package include transport service ...</td>\n",
       "    </tr>\n",
       "    <tr>\n",
       "      <th>14</th>\n",
       "      <td>package_sightseeing</td>\n",
       "      <td>If the tour package include sightseeing service</td>\n",
       "    </tr>\n",
       "    <tr>\n",
       "      <th>15</th>\n",
       "      <td>package_guided_tour</td>\n",
       "      <td>If the tour package include tour guide</td>\n",
       "    </tr>\n",
       "    <tr>\n",
       "      <th>16</th>\n",
       "      <td>package_insurance</td>\n",
       "      <td>if the tour package include insurance service</td>\n",
       "    </tr>\n",
       "    <tr>\n",
       "      <th>17</th>\n",
       "      <td>night_mainland</td>\n",
       "      <td>Number of nights a tourist spent in Tanzania m...</td>\n",
       "    </tr>\n",
       "    <tr>\n",
       "      <th>18</th>\n",
       "      <td>night_zanzibar</td>\n",
       "      <td>Number of nights a tourist spent in Zanzibar</td>\n",
       "    </tr>\n",
       "    <tr>\n",
       "      <th>19</th>\n",
       "      <td>payment_mode</td>\n",
       "      <td>The mode of payment for tourism service</td>\n",
       "    </tr>\n",
       "    <tr>\n",
       "      <th>20</th>\n",
       "      <td>first_trip_tz</td>\n",
       "      <td>If it was a first  trip to Tanzania</td>\n",
       "    </tr>\n",
       "    <tr>\n",
       "      <th>21</th>\n",
       "      <td>most_impressing</td>\n",
       "      <td>what impressed a toursit in Tanzania</td>\n",
       "    </tr>\n",
       "    <tr>\n",
       "      <th>22</th>\n",
       "      <td>total_cost</td>\n",
       "      <td>The total tourist expenditure  in TZS(currency)</td>\n",
       "    </tr>\n",
       "  </tbody>\n",
       "</table>\n",
       "</div>"
      ],
      "text/plain": [
       "              Column Name                                         Definition\n",
       "0                      id                 Unique identifier for each tourist\n",
       "1                 country                The country a tourist coming  from.\n",
       "2               age_group                        The age group of a tourist.\n",
       "3             travel_with  The relation of people a tourist travel with t...\n",
       "4            total_female                            Total number of females\n",
       "5              total_male                              Total number of males\n",
       "6                 purpose                  The purpose of visiting  Tanzania\n",
       "7           main_activity           The main activity of tourism in Tanzania\n",
       "8            infor_source  The source of information about tourism in Tan...\n",
       "9         tour_arrangment                The arrangment of visiting Tanzania\n",
       "10  package_transport_int  If the tour package include international tran...\n",
       "11   package_accomodation  If the tour package include accommodation service\n",
       "12           package_food           If the tour package include food service\n",
       "13   package_transport_tz  If the tour package include transport service ...\n",
       "14    package_sightseeing    If the tour package include sightseeing service\n",
       "15    package_guided_tour             If the tour package include tour guide\n",
       "16      package_insurance      if the tour package include insurance service\n",
       "17         night_mainland  Number of nights a tourist spent in Tanzania m...\n",
       "18         night_zanzibar       Number of nights a tourist spent in Zanzibar\n",
       "19           payment_mode            The mode of payment for tourism service\n",
       "20          first_trip_tz                If it was a first  trip to Tanzania\n",
       "21        most_impressing               what impressed a toursit in Tanzania\n",
       "22             total_cost    The total tourist expenditure  in TZS(currency)"
      ]
     },
     "execution_count": 11,
     "metadata": {},
     "output_type": "execute_result"
    }
   ],
   "source": [
    "VariableDefinitions"
   ]
  },
  {
   "cell_type": "code",
   "execution_count": 21,
   "id": "19da0c17",
   "metadata": {},
   "outputs": [],
   "source": [
    "# Time to one hot encode the above\n",
    "# We first need to convert them into categorical labels\n",
    "\n",
    "def preprocessing(mydata):\n",
    "    \"\"\"Preprocessing done here\"\"\"\n",
    "    # Fill empty rows\n",
    "    mydata = mydata.fillna(method='ffill', axis=0)\n",
    "    \n",
    "    \"\"\"Encoding formula\"\"\"\n",
    "    encoded_data = pd.get_dummies(data=mydata, columns = [#'country',\n",
    "                                                     'age_group',\n",
    "                                                    'travel_with',\n",
    "                                                    'purpose',\n",
    "                                                    'main_activity',\n",
    "                                                    'info_source',\n",
    "                                                    'tour_arrangement',\n",
    "                                                    'package_transport_int',\n",
    "                                                    'package_accomodation',\n",
    "                                                    'package_food',\n",
    "                                                    'package_transport_tz',\n",
    "                                                    'package_sightseeing',\n",
    "                                                    'package_guided_tour',\n",
    "                                                    'package_insurance',\n",
    "                                                    'night_mainland',\n",
    "                                                    'night_zanzibar',\n",
    "                                                    'payment_mode',\n",
    "                                                    'first_trip_tz',\n",
    "                                                    'most_impressing'])\n",
    "    \n",
    "    return encoded_data"
   ]
  },
  {
   "cell_type": "code",
   "execution_count": 22,
   "id": "468caf3a",
   "metadata": {},
   "outputs": [],
   "source": [
    "encoded_data = preprocessing(train)"
   ]
  },
  {
   "cell_type": "markdown",
   "id": "43885e6b",
   "metadata": {},
   "source": [
    "The encoded data is now our training set\n"
   ]
  },
  {
   "cell_type": "code",
   "execution_count": 23,
   "id": "7043c81d",
   "metadata": {},
   "outputs": [
    {
     "data": {
      "text/plain": [
       "ID                                                      0\n",
       "country                                                 0\n",
       "total_female                                            0\n",
       "total_male                                              0\n",
       "total_cost                                              0\n",
       "                                                       ..\n",
       "most_impressing_Friendly People                         0\n",
       "most_impressing_Good service                            0\n",
       "most_impressing_No comments                             0\n",
       "most_impressing_Satisfies and Hope Come Back            0\n",
       "most_impressing_Wonderful Country, Landscape, Nature    0\n",
       "Length: 165, dtype: int64"
      ]
     },
     "execution_count": 23,
     "metadata": {},
     "output_type": "execute_result"
    }
   ],
   "source": [
    "# Check for numm values\n",
    "encoded_data.isnull().sum()"
   ]
  },
  {
   "cell_type": "markdown",
   "id": "531cad27",
   "metadata": {},
   "source": [
    "I'll skip to model building now"
   ]
  },
  {
   "cell_type": "markdown",
   "id": "926c99c6",
   "metadata": {},
   "source": [
    "## 4. Model Building"
   ]
  },
  {
   "cell_type": "code",
   "execution_count": 31,
   "id": "09cd3c87",
   "metadata": {},
   "outputs": [
    {
     "data": {
      "text/html": [
       "<style>#sk-container-id-3 {color: black;background-color: white;}#sk-container-id-3 pre{padding: 0;}#sk-container-id-3 div.sk-toggleable {background-color: white;}#sk-container-id-3 label.sk-toggleable__label {cursor: pointer;display: block;width: 100%;margin-bottom: 0;padding: 0.3em;box-sizing: border-box;text-align: center;}#sk-container-id-3 label.sk-toggleable__label-arrow:before {content: \"▸\";float: left;margin-right: 0.25em;color: #696969;}#sk-container-id-3 label.sk-toggleable__label-arrow:hover:before {color: black;}#sk-container-id-3 div.sk-estimator:hover label.sk-toggleable__label-arrow:before {color: black;}#sk-container-id-3 div.sk-toggleable__content {max-height: 0;max-width: 0;overflow: hidden;text-align: left;background-color: #f0f8ff;}#sk-container-id-3 div.sk-toggleable__content pre {margin: 0.2em;color: black;border-radius: 0.25em;background-color: #f0f8ff;}#sk-container-id-3 input.sk-toggleable__control:checked~div.sk-toggleable__content {max-height: 200px;max-width: 100%;overflow: auto;}#sk-container-id-3 input.sk-toggleable__control:checked~label.sk-toggleable__label-arrow:before {content: \"▾\";}#sk-container-id-3 div.sk-estimator input.sk-toggleable__control:checked~label.sk-toggleable__label {background-color: #d4ebff;}#sk-container-id-3 div.sk-label input.sk-toggleable__control:checked~label.sk-toggleable__label {background-color: #d4ebff;}#sk-container-id-3 input.sk-hidden--visually {border: 0;clip: rect(1px 1px 1px 1px);clip: rect(1px, 1px, 1px, 1px);height: 1px;margin: -1px;overflow: hidden;padding: 0;position: absolute;width: 1px;}#sk-container-id-3 div.sk-estimator {font-family: monospace;background-color: #f0f8ff;border: 1px dotted black;border-radius: 0.25em;box-sizing: border-box;margin-bottom: 0.5em;}#sk-container-id-3 div.sk-estimator:hover {background-color: #d4ebff;}#sk-container-id-3 div.sk-parallel-item::after {content: \"\";width: 100%;border-bottom: 1px solid gray;flex-grow: 1;}#sk-container-id-3 div.sk-label:hover label.sk-toggleable__label {background-color: #d4ebff;}#sk-container-id-3 div.sk-serial::before {content: \"\";position: absolute;border-left: 1px solid gray;box-sizing: border-box;top: 0;bottom: 0;left: 50%;z-index: 0;}#sk-container-id-3 div.sk-serial {display: flex;flex-direction: column;align-items: center;background-color: white;padding-right: 0.2em;padding-left: 0.2em;position: relative;}#sk-container-id-3 div.sk-item {position: relative;z-index: 1;}#sk-container-id-3 div.sk-parallel {display: flex;align-items: stretch;justify-content: center;background-color: white;position: relative;}#sk-container-id-3 div.sk-item::before, #sk-container-id-3 div.sk-parallel-item::before {content: \"\";position: absolute;border-left: 1px solid gray;box-sizing: border-box;top: 0;bottom: 0;left: 50%;z-index: -1;}#sk-container-id-3 div.sk-parallel-item {display: flex;flex-direction: column;z-index: 1;position: relative;background-color: white;}#sk-container-id-3 div.sk-parallel-item:first-child::after {align-self: flex-end;width: 50%;}#sk-container-id-3 div.sk-parallel-item:last-child::after {align-self: flex-start;width: 50%;}#sk-container-id-3 div.sk-parallel-item:only-child::after {width: 0;}#sk-container-id-3 div.sk-dashed-wrapped {border: 1px dashed gray;margin: 0 0.4em 0.5em 0.4em;box-sizing: border-box;padding-bottom: 0.4em;background-color: white;}#sk-container-id-3 div.sk-label label {font-family: monospace;font-weight: bold;display: inline-block;line-height: 1.2em;}#sk-container-id-3 div.sk-label-container {text-align: center;}#sk-container-id-3 div.sk-container {/* jupyter's `normalize.less` sets `[hidden] { display: none; }` but bootstrap.min.css set `[hidden] { display: none !important; }` so we also need the `!important` here to be able to override the default hidden behavior on the sphinx rendered scikit-learn.org. See: https://github.com/scikit-learn/scikit-learn/issues/21755 */display: inline-block !important;position: relative;}#sk-container-id-3 div.sk-text-repr-fallback {display: none;}</style><div id=\"sk-container-id-3\" class=\"sk-top-container\"><div class=\"sk-text-repr-fallback\"><pre>LinearRegression()</pre><b>In a Jupyter environment, please rerun this cell to show the HTML representation or trust the notebook. <br />On GitHub, the HTML representation is unable to render, please try loading this page with nbviewer.org.</b></div><div class=\"sk-container\" hidden><div class=\"sk-item\"><div class=\"sk-estimator sk-toggleable\"><input class=\"sk-toggleable__control sk-hidden--visually\" id=\"sk-estimator-id-3\" type=\"checkbox\" checked><label for=\"sk-estimator-id-3\" class=\"sk-toggleable__label sk-toggleable__label-arrow\">LinearRegression</label><div class=\"sk-toggleable__content\"><pre>LinearRegression()</pre></div></div></div></div></div>"
      ],
      "text/plain": [
       "LinearRegression()"
      ]
     },
     "execution_count": 31,
     "metadata": {},
     "output_type": "execute_result"
    }
   ],
   "source": [
    "# Our algorithm\n",
    "lr = LinearRegression()\n",
    "\n",
    "X = encoded_data.iloc[:, 2:21]\n",
    "y = train['total_cost']\n",
    "\n",
    "# Algorithm training\n",
    "lr.fit(X, y)"
   ]
  },
  {
   "cell_type": "code",
   "execution_count": 43,
   "id": "b434c167",
   "metadata": {},
   "outputs": [],
   "source": [
    "# Prediction time -- Something is wrong here. Pre-processing the test dataset\n",
    "\n",
    "X_test = preprocessing(test).iloc[:,2:21]"
   ]
  },
  {
   "cell_type": "code",
   "execution_count": 44,
   "id": "37d3d501",
   "metadata": {},
   "outputs": [
    {
     "name": "stderr",
     "output_type": "stream",
     "text": [
      "/home/benson/.local/lib/python3.8/site-packages/sklearn/base.py:493: FutureWarning: The feature names should match those that were passed during fit. Starting version 1.2, an error will be raised.\n",
      "Feature names unseen at fit time:\n",
      "- age_group_24-Jan\n",
      "- main_activity_Beach tourism\n",
      "Feature names seen at fit time, yet now missing:\n",
      "- age_group_1-24\n",
      "- total_cost\n",
      "\n",
      "  warnings.warn(message, FutureWarning)\n"
     ]
    }
   ],
   "source": [
    "y_pred = lr.predict(X_test)"
   ]
  },
  {
   "cell_type": "code",
   "execution_count": 38,
   "id": "de9dfcc2",
   "metadata": {},
   "outputs": [
    {
     "data": {
      "text/plain": [
       "array([ 2.96169740e-09, -5.39680325e-09,  7.86630060e-09, ...,\n",
       "        2.18256830e-09,  1.00000000e+00,  2.94653538e-09])"
      ]
     },
     "execution_count": 38,
     "metadata": {},
     "output_type": "execute_result"
    }
   ],
   "source": [
    "y_pred"
   ]
  },
  {
   "cell_type": "code",
   "execution_count": 39,
   "id": "e8e0b4a9",
   "metadata": {},
   "outputs": [],
   "source": [
    "submission = pd.DataFrame({\"ID\": test[\"ID\"],\n",
    "                           \"total_cost\": y_pred})"
   ]
  },
  {
   "cell_type": "code",
   "execution_count": 40,
   "id": "07f49dc1",
   "metadata": {},
   "outputs": [
    {
     "data": {
      "text/html": [
       "<div>\n",
       "<style scoped>\n",
       "    .dataframe tbody tr th:only-of-type {\n",
       "        vertical-align: middle;\n",
       "    }\n",
       "\n",
       "    .dataframe tbody tr th {\n",
       "        vertical-align: top;\n",
       "    }\n",
       "\n",
       "    .dataframe thead th {\n",
       "        text-align: right;\n",
       "    }\n",
       "</style>\n",
       "<table border=\"1\" class=\"dataframe\">\n",
       "  <thead>\n",
       "    <tr style=\"text-align: right;\">\n",
       "      <th></th>\n",
       "      <th>ID</th>\n",
       "      <th>total_cost</th>\n",
       "    </tr>\n",
       "  </thead>\n",
       "  <tbody>\n",
       "    <tr>\n",
       "      <th>834</th>\n",
       "      <td>tour_3989</td>\n",
       "      <td>1.588848e-09</td>\n",
       "    </tr>\n",
       "    <tr>\n",
       "      <th>70</th>\n",
       "      <td>tour_1240</td>\n",
       "      <td>2.114601e-09</td>\n",
       "    </tr>\n",
       "    <tr>\n",
       "      <th>307</th>\n",
       "      <td>tour_2056</td>\n",
       "      <td>2.964686e-09</td>\n",
       "    </tr>\n",
       "    <tr>\n",
       "      <th>661</th>\n",
       "      <td>tour_334</td>\n",
       "      <td>5.777910e-09</td>\n",
       "    </tr>\n",
       "    <tr>\n",
       "      <th>1339</th>\n",
       "      <td>tour_5856</td>\n",
       "      <td>1.000000e+00</td>\n",
       "    </tr>\n",
       "  </tbody>\n",
       "</table>\n",
       "</div>"
      ],
      "text/plain": [
       "             ID    total_cost\n",
       "834   tour_3989  1.588848e-09\n",
       "70    tour_1240  2.114601e-09\n",
       "307   tour_2056  2.964686e-09\n",
       "661    tour_334  5.777910e-09\n",
       "1339  tour_5856  1.000000e+00"
      ]
     },
     "execution_count": 40,
     "metadata": {},
     "output_type": "execute_result"
    }
   ],
   "source": [
    "submission.sample(5)"
   ]
  },
  {
   "cell_type": "code",
   "execution_count": 42,
   "id": "fba38e5f",
   "metadata": {},
   "outputs": [],
   "source": [
    "submission.to_csv('first_submission.csv', index = False)"
   ]
  }
 ],
 "metadata": {
  "kernelspec": {
   "display_name": "Python 3 (ipykernel)",
   "language": "python",
   "name": "python3"
  },
  "language_info": {
   "codemirror_mode": {
    "name": "ipython",
    "version": 3
   },
   "file_extension": ".py",
   "mimetype": "text/x-python",
   "name": "python",
   "nbconvert_exporter": "python",
   "pygments_lexer": "ipython3",
   "version": "3.8.10"
  }
 },
 "nbformat": 4,
 "nbformat_minor": 5
}
